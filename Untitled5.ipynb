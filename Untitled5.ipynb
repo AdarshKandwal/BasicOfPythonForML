{
 "cells": [
  {
   "cell_type": "markdown",
   "metadata": {},
   "source": [
    "<h3>Experiment 1</h3>\n",
    "Q1 Print the following :<br>\n",
    "           ‘ Brian’s mother : He’s not the messiah.<br>\n",
    "             He’s a very naughty boy ! ’<br>\n",
    "\n",
    "Q3 Take two variable a and b. Assign your first name and last name. Print your Name after adding your First name and Last name together.<br>\n",
    "Q4 Give yourself a nickname :<br>\n",
    "     Declare three variables, consisting of your first name, your last name and Nickname. Write a  Program that prints out your first name, then your nickname in parenthesis and then your last name. \n",
    "Example output : George ( woody ) Washington.<br>\n",
    "Q5) Print your name three times like<br>\n",
    "           GeorgeGeorgeGeorge<br>\n",
    "Q6) Print your name three times like<br>\n",
    "            George       George        George<br>\n",
    "Q7) Declare and assign values to the variables first name, last name, address, DOB, Programme, <br>semester, SAP ID and print in the following way :<br>\n",
    "NAME : NIKUNJ BANSAL       <br>                                                                          SAP ID : 500069944<br>\n",
    "DATE OF BIRTH : 13 Oct 1999<br>\n",
    "ADDRESS : UPES<br>\n",
    "                    Bidholi Campus<br>\n",
    "                    Pincode : 248007<br>\n",
    "Programme : AI & ML<br>                                                                                     Semester : 1<br>\n",
    " \n",
    "\n",
    "\n"
   ]
  },
  {
   "cell_type": "code",
   "execution_count": 4,
   "metadata": {},
   "outputs": [
    {
     "name": "stdout",
     "output_type": "stream",
     "text": [
      "Brian’s mother : He’s not the messiah. \n",
      "He’s a very naughty boy !\n"
     ]
    }
   ],
   "source": [
    "#ques1:\n",
    "print('Brian’s mother : He’s not the messiah. \\nHe’s a very naughty boy !')"
   ]
  },
  {
   "cell_type": "code",
   "execution_count": 6,
   "metadata": {},
   "outputs": [
    {
     "name": "stdout",
     "output_type": "stream",
     "text": [
      "Adarsh kandwal\n"
     ]
    }
   ],
   "source": [
    "a=\"Adarsh \"\n",
    "b=\"kandwal\"\n",
    "print(a+b)"
   ]
  },
  {
   "cell_type": "code",
   "execution_count": 7,
   "metadata": {},
   "outputs": [
    {
     "name": "stdout",
     "output_type": "stream",
     "text": [
      "Adarsh (Adi) Kandwal\n"
     ]
    }
   ],
   "source": [
    "name=\"Adarsh\"\n",
    "nick_name=\"Adi\"\n",
    "last_name=\"Kandwal\"\n",
    "print(name+\" (\"+nick_name+\") \"+last_name)"
   ]
  },
  {
   "cell_type": "code",
   "execution_count": 13,
   "metadata": {},
   "outputs": [
    {
     "name": "stdout",
     "output_type": "stream",
     "text": [
      "AdarshAdarshAdarsh\n"
     ]
    }
   ],
   "source": [
    "sumx=\"\"\n",
    "for i in range(3):\n",
    "    sumx=sumx+name\n",
    "print(sumx)"
   ]
  },
  {
   "cell_type": "code",
   "execution_count": 14,
   "metadata": {},
   "outputs": [
    {
     "name": "stdout",
     "output_type": "stream",
     "text": [
      " Adarsh Adarsh Adarsh\n"
     ]
    }
   ],
   "source": [
    "sumx=\"\"\n",
    "for i in range(3):\n",
    "    sumx=sumx+\" \"+name\n",
    "print(sumx)"
   ]
  },
  {
   "cell_type": "code",
   "execution_count": null,
   "metadata": {},
   "outputs": [],
   "source": [
    " NAME : NIKUNJ BANSAL                                                                                 SAP ID : 500069944\n",
    "DATE OF BIRTH : 13 Oct 1999\n",
    "ADDRESS : UPES\n",
    "                    Bidholi Campus\n",
    "                    Pincode : 248007\n",
    "Programme : AI & ML                                                                                      Semester : 1 "
   ]
  },
  {
   "cell_type": "code",
   "execution_count": 17,
   "metadata": {},
   "outputs": [
    {
     "name": "stdout",
     "output_type": "stream",
     "text": [
      "NAME : adarsh kandwal\t\t SapiD :500068043\n",
      "DATE OF BIRTH :18-07-2001\n",
      "ADDRESS :v/po bahuwala premnagar dehradun\n",
      "Programme btech cse bao\t\t5\n"
     ]
    }
   ],
   "source": [
    "first_name=\"adarsh\"\n",
    "last_name=\"kandwal\"\n",
    "address=\"v/po bahuwala premnagar dehradun\"\n",
    "DOB=\"18-07-2001\"\n",
    "programme=\"btech cse bao\"\n",
    "sem=5\n",
    "sap=500068043\n",
    "print(\"NAME : {} {}\\t\\t SapiD :{}\".format(first_name,last_name,sap))\n",
    "print(\"DATE OF BIRTH :{}\".format(DOB))\n",
    "print(\"ADDRESS :{}\".format(address))\n",
    "print(\"Programme {}\\t\\t{}\".format(programme,sem))\n"
   ]
  },
  {
   "cell_type": "markdown",
   "metadata": {},
   "source": [
    "<h3> Experiment 3 </h3>\n",
    "11 .Declare these variables (x, y and z) as integers. Assign a value of 9 to x, Assign a value of 7 to y, perform addition, multiplication, division and subtraction on these two variables and Print out the result.<br>\n",
    "12.Write a Program where the radius of a circle is 12 units. Compute the area of a circle.<br>\n",
    "13.Write a Python program to solve (x+y)*(x+y)<br>\n",
    "    Test data : x = 4 , y = 3<br>\n",
    "    Expected output : (4+3)^2 = 49<br>\n",
    "\n",
    "14.Write a program to compute the length of the hypotenuse (c) of a right triangle having sides a = 133 , b = 72 units. Hint : remember the Pythagoras theorem.<br>\n",
    "15.Write a program to find simple interest.<br>\n",
    "16.Write a program to find volume of cone.<br>\n",
    "17.Write a program to find area of triangle when length of sides are given.<br>\n",
    "18.Write a program to convert given seconds into hours, minutes and remaining seconds.<br>\n",
    "19.Write a program to convert given inches to feet and inches format.<br>\n",
    "20.Write a program to swap two numbers without taking additional variable.<br>\n",
    "21.Write a program to find sum of first n natural numbers.<br>"
   ]
  },
  {
   "cell_type": "code",
   "execution_count": 25,
   "metadata": {},
   "outputs": [
    {
     "name": "stdout",
     "output_type": "stream",
     "text": [
      "sum is 16\n",
      "sub is 2\n",
      "mul is 63\n",
      "div is 1.2857142857142858\n"
     ]
    }
   ],
   "source": [
    "x=9\n",
    "y=7\n",
    "z=x+y\n",
    "print(\"sum is {}\".format(z))\n",
    "x=9\n",
    "y=7\n",
    "z=x-y\n",
    "print(\"sub is {}\".format(z))\n",
    "x=9\n",
    "y=7\n",
    "z=x*y\n",
    "print(\"mul is {}\".format(z))\n",
    "x=9\n",
    "y=7\n",
    "z=x/y\n",
    "print(\"div is {}\".format(z))"
   ]
  },
  {
   "cell_type": "code",
   "execution_count": 30,
   "metadata": {},
   "outputs": [
    {
     "name": "stdout",
     "output_type": "stream",
     "text": [
      "the area is 452.3893421169302\n"
     ]
    }
   ],
   "source": [
    "#Write a Program where the radius of a circle is 12 units. Compute the area of a circle\n",
    "import math\n",
    "radius=12\n",
    "area=math.pi*radius*radius\n",
    "print(\"the area is {}\".format(area))"
   ]
  },
  {
   "cell_type": "code",
   "execution_count": 33,
   "metadata": {},
   "outputs": [
    {
     "name": "stdout",
     "output_type": "stream",
     "text": [
      "value of x4\n",
      "value of y3\n",
      "49\n"
     ]
    }
   ],
   "source": [
    "#    Write a Python program to solve (x+y)*(x+y) test data : x = 4 , y = 3 \n",
    "\n",
    "x=int(input(\"value of x\"))\n",
    "y=int(input(\"value of y\"))\n",
    "res=(x+y)**2\n",
    "print(res)"
   ]
  },
  {
   "cell_type": "code",
   "execution_count": 36,
   "metadata": {},
   "outputs": [
    {
     "name": "stdout",
     "output_type": "stream",
     "text": [
      "value of p133\n",
      "value of b72\n",
      "hypotenuse :151.23822268196622\n"
     ]
    }
   ],
   "source": [
    "#Write a program to compute the length of the hypotenuse (c) of a right triangle having sides a = 133 , b = 72 units. Hint : remember the Pythagoras theorem.\n",
    "p=int(input(\"value of p\"))\n",
    "b=int(input(\"value of b\"))\n",
    "res=math.sqrt(p**2+b**2)\n",
    "print(\"hypotenuse :{}\".format(res))"
   ]
  },
  {
   "cell_type": "code",
   "execution_count": 37,
   "metadata": {},
   "outputs": [
    {
     "name": "stdout",
     "output_type": "stream",
     "text": [
      "principl amount10\n",
      "rate2\n",
      "time1\n",
      "30\n"
     ]
    }
   ],
   "source": [
    "#Write a program to find simple interest.\n",
    "#A = P (1 + rt)\n",
    "p=int(input(\"principl amount\"))\n",
    "r=int(input(\"rate per day\"))\n",
    "t=int(input(\"time int days\"))\n",
    "a=p*(1+r*t)\n",
    "print(a)"
   ]
  },
  {
   "cell_type": "code",
   "execution_count": 38,
   "metadata": {},
   "outputs": [
    {
     "name": "stdout",
     "output_type": "stream",
     "text": [
      "radius10\n",
      "height20\n",
      "2094.3951023931954\n"
     ]
    }
   ],
   "source": [
    "#Write a program to find volume of cone.\n",
    "#V=πr2h/3\n",
    "r=int(input(\"radius\"))\n",
    "h=int(input(\"height\"))\n",
    "v=(math.pi*(r**2)*h)/3\n",
    "print(v)"
   ]
  },
  {
   "cell_type": "code",
   "execution_count": 40,
   "metadata": {},
   "outputs": [
    {
     "name": "stdout",
     "output_type": "stream",
     "text": [
      "base3\n",
      "height4\n",
      "6.0\n"
     ]
    }
   ],
   "source": [
    "r=int(input(\"base\"))\n",
    "h=int(input(\"height\"))\n",
    "area=(r*h)/2\n",
    "print(area)"
   ]
  },
  {
   "cell_type": "code",
   "execution_count": 45,
   "metadata": {},
   "outputs": [
    {
     "name": "stdout",
     "output_type": "stream",
     "text": [
      "20\n",
      "10\n"
     ]
    }
   ],
   "source": [
    "#Write a program to swap two numbers without taking additional variable.\n",
    "a=10\n",
    "b=20\n",
    "a=a+b\n",
    "b=a-b\n",
    "a=a-b\n",
    "print(a)\n",
    "print(b)"
   ]
  },
  {
   "cell_type": "code",
   "execution_count": 47,
   "metadata": {},
   "outputs": [
    {
     "name": "stdout",
     "output_type": "stream",
     "text": [
      "enter the value of n5\n",
      "10\n"
     ]
    }
   ],
   "source": [
    "#Write a program to find sum of first n natural numbers.\n",
    "n=int(input(\"enter the value of n\"))\n",
    "sum=0\n",
    "for i in range(n):\n",
    "    sum=sum+i\n",
    "print(sum)"
   ]
  },
  {
   "cell_type": "markdown",
   "metadata": {},
   "source": [
    "<h3>Practical 3</h3><br>\n",
    "1.Check whether given number is divisible by 3 and 5 both.<br>\n",
    "2.Check whether a given number is multiple of five or not.<br>\n",
    "3.Write a Python program to display sum of two given integers. If the sum is between 10 and 20   than display 15.<br>\n",
    "4.Find the greatest among two numbers. If numbers are equal than print “numbers are equal”.<br>\n",
    "5.Check whether voter is eligible for voting or not (eligible age >=18)<br>\n",
    "6.Find the greatest among three numbers assuming no two values are same.<br>\n",
    "7.Check whether the quadratic equation has real roots or imaginary roots. Display the roots.<br>\n",
    "8.Find whether a given year is a leap year or not.<br>\n",
    "9.Write a program which takes any date as input and display next date of the calendar\n",
    "e.g.<br>\n",
    "I/P: day=20 month=9 year=2005<br>\n",
    "O/P: day=21 month=9 year 2005<br>\n",
    "10.Print the grade sheet of a student for the given range of cgpa. Scan marks of five subjects <br>and calculate the percentage.<br>\n",
    "CGPA=percentage/10<br>\n",
    "CGPA range:<br>\n",
    "0 to 3.4 -> F<br>\n",
    "3.5 to 5.0->C+<br>\n",
    "5.1 to 6->B<br>\n",
    "6.1 to 7-> B+<br>\n",
    "7.1 to 8-> A<br>\n",
    "8.1 to 9->A+<br>\n",
    "9.1 to 10-> O (Outstanding)<br>\n",
    " \n"
   ]
  },
  {
   "cell_type": "code",
   "execution_count": 7,
   "metadata": {},
   "outputs": [
    {
     "name": "stdout",
     "output_type": "stream",
     "text": [
      "enter the number5\n",
      "not divisible\n"
     ]
    }
   ],
   "source": [
    "#Check whether given number is divisible by 3 and 5 both.\n",
    "a=int(input(\"enter the number\"))\n",
    "if(a%3==0 and a%5==0):\n",
    "    print(\"divisible by both 3 and 5\")\n",
    "else:\n",
    "    print(\"not divisible\")\n",
    "    "
   ]
  },
  {
   "cell_type": "code",
   "execution_count": 10,
   "metadata": {},
   "outputs": [
    {
     "name": "stdout",
     "output_type": "stream",
     "text": [
      "enter the number43\n",
      "not a multiple\n"
     ]
    }
   ],
   "source": [
    "#Check whether a given number is multiple of five or not.\n",
    "a=int(input(\"enter the number\"))\n",
    "if(a%5==0):\n",
    "    print(\"multiple of 5\")\n",
    "else:\n",
    "    print(\"not a multiple\")\n",
    "    "
   ]
  },
  {
   "cell_type": "code",
   "execution_count": 12,
   "metadata": {},
   "outputs": [
    {
     "name": "stdout",
     "output_type": "stream",
     "text": [
      "enter the number A :10\n",
      "enter the number B :2\n",
      "15\n"
     ]
    }
   ],
   "source": [
    "#Write a Python program to display sum of two given integers. If the sum is between 10 and 20 than display 15.\n",
    "a=int(input(\"enter the number A :\"))\n",
    "b=int(input(\"enter the number B :\"))\n",
    "sumx=a+b\n",
    "if(sumx>=10 and sumx<=20):\n",
    "    print(\"15\")"
   ]
  },
  {
   "cell_type": "code",
   "execution_count": 16,
   "metadata": {},
   "outputs": [
    {
     "name": "stdout",
     "output_type": "stream",
     "text": [
      "enter the number A :10\n",
      "enter the number B :10\n",
      "numbers are equal\n"
     ]
    }
   ],
   "source": [
    "#Find the greatest among two numbers. If numbers are equal than print “numbers are equal”.\n",
    "a=int(input(\"enter the number A :\"))\n",
    "b=int(input(\"enter the number B :\"))\n",
    "\n",
    "if(a>b):\n",
    "    print(a)\n",
    "elif(b>a):\n",
    "    print(b)\n",
    "else:\n",
    "    print(\"numbers are equal\")"
   ]
  },
  {
   "cell_type": "code",
   "execution_count": 17,
   "metadata": {},
   "outputs": [
    {
     "name": "stdout",
     "output_type": "stream",
     "text": [
      "enter the number A :18\n",
      "eligible to vote\n"
     ]
    }
   ],
   "source": [
    "#Check whether voter is eligible for voting or not (eligible age >=18)\n",
    "a=int(input(\"enter the number A :\"))\n",
    "\n",
    "if(a<18):\n",
    "    print(\"not eligible vote\")\n",
    "else:\n",
    "    print(\"eligible to vote\")"
   ]
  },
  {
   "cell_type": "code",
   "execution_count": 19,
   "metadata": {},
   "outputs": [
    {
     "name": "stdout",
     "output_type": "stream",
     "text": [
      "enter the number A :10\n",
      "enter the number B :20\n",
      "enter the number C :30\n",
      "the greatest is  30\n"
     ]
    }
   ],
   "source": [
    "#Find the greatest among three numbers assuming no two values are same.\n",
    "a=int(input(\"enter the number A :\"))\n",
    "b=int(input(\"enter the number B :\"))\n",
    "c=int(input(\"enter the number C :\"))\n",
    "\n",
    "if a>b and a>c:\n",
    "    print(a)\n",
    "elif b>c and b>a:\n",
    "    print(b)\n",
    "else:\n",
    "    print(\"the greatest is  {}\".format(c))"
   ]
  },
  {
   "cell_type": "code",
   "execution_count": 21,
   "metadata": {},
   "outputs": [
    {
     "name": "stdout",
     "output_type": "stream",
     "text": [
      "enter the number A :10\n",
      "enter the number B :20\n",
      "enter the number C :30\n",
      "no root\n"
     ]
    }
   ],
   "source": [
    "a=int(input(\"enter the number A :\"))\n",
    "b=int(input(\"enter the number B :\"))\n",
    "c=int(input(\"enter the number C :\"))\n",
    "\n",
    "dis=b**2 - 4*a*c\n",
    "\n",
    "if dis>0:\n",
    "    root1=(((-b) + sqrt(dis))/(2*a))\n",
    "    root2=(((-b) - sqrt(dis))/(2*a))\n",
    "    print(\"two roots are {} {}\".format(root1,root2))\n",
    "elif dis==0:\n",
    "    root1 = (-b) / 2*a\n",
    "    print(\"there is one root: \",x)\n",
    "else:\n",
    "    print(\"no root\")\n",
    "    \n",
    "    \n",
    "    "
   ]
  },
  {
   "cell_type": "code",
   "execution_count": 80,
   "metadata": {
    "scrolled": true
   },
   "outputs": [
    {
     "name": "stdout",
     "output_type": "stream",
     "text": [
      "enter the day29\n",
      "enter the month2\n",
      "enter the year2024\n",
      "day 1 month 3 year 2024\n"
     ]
    }
   ],
   "source": [
    "day=int(input(\"enter the day\"))\n",
    "month=int(input(\"enter the month\"))\n",
    "year=int(input(\"enter the year\"))\n",
    "flag=0\n",
    "\n",
    "month31=[1,3,5,7,8,10,12]\n",
    "month30=[4,6,9]\n",
    "\n",
    "def leap_year(year):\n",
    "    if (year % 4) == 0:\n",
    "        if (year % 100) == 0:\n",
    "            if (year % 400) == 0:\n",
    "                return 1\n",
    "            else:\n",
    "                return 0\n",
    "        else:\n",
    "            return 1\n",
    "    else:\n",
    "        return 0\n",
    "\n",
    "if month==2:\n",
    "    if leap_year(year)==1 and day==29:\n",
    "        month=month+1\n",
    "        day=1\n",
    "        flag=1\n",
    "    elif leap_year(year)==0 and day == 28:\n",
    "        day=1\n",
    "        month=1\n",
    "        flag=1\n",
    "        print(\"leap year\")\n",
    "    elif leap_year(year)==0 and day<28:\n",
    "        day=day+1\n",
    "        month=month+1\n",
    "        flag=1\n",
    "    \n",
    "if(flag==0):\n",
    "    for i in month31:\n",
    "        if i==month:\n",
    "            if day==31 and month!=12:\n",
    "                day=1\n",
    "                month=month+1\n",
    "            elif day==31 and  month==12:\n",
    "                day=1\n",
    "                month=1\n",
    "                year=year+1\n",
    "            else:\n",
    "                day=day+1\n",
    "\n",
    "    for i in month30:\n",
    "        if i==month:\n",
    "            if day==30:\n",
    "                day=1\n",
    "                month=month+1\n",
    "            else:\n",
    "                day=day+1\n",
    "                \n",
    "print(\"day {} month {} year {}\".format(day,month,year))\n"
   ]
  },
  {
   "cell_type": "markdown",
   "metadata": {},
   "source": [
    "<h3>Practical No 4</h3>\n",
    " \n",
    "Q1) Find a factorial of given number.<br>\n",
    "Q2) Find whether the given number is Armstrong number.<br>\n",
    "Q3) Print Fibonacci series up to given term.<br>\n",
    "Q4) Write a program to find prime number.<br>\n",
    "Q5) Check whether given number is palindrome or not.<br>\n",
    "Q6) Write a program to print sum of digits.<br>\n",
    "Q7) Count and print all numbers divisible by 5 or 7 between 1 to 100.<br>\n",
    "Q8) Convert all lower case to upper in a string.<br>\n",
    "Q9) Print prime numbers between 1 and 100.<br>\n",
    "Q10) Print the table for a given number:<br>\n",
    "5 * 1 = 5<br>\n",
    "5 * 2 = 10……….. <br>"
   ]
  },
  {
   "cell_type": "code",
   "execution_count": 4,
   "metadata": {},
   "outputs": [
    {
     "name": "stdout",
     "output_type": "stream",
     "text": [
      "enter the number5\n",
      "120\n"
     ]
    }
   ],
   "source": [
    "#factorial of given number.\n",
    "n=int(input(\"enter the number\"))\n",
    "fact=n\n",
    "while n>1:\n",
    "    fact=fact*(n-1)\n",
    "    n=n-1\n",
    "print(fact)"
   ]
  },
  {
   "cell_type": "code",
   "execution_count": 17,
   "metadata": {},
   "outputs": [
    {
     "name": "stdout",
     "output_type": "stream",
     "text": [
      "enter the number153\n",
      "number is amstrong\n"
     ]
    }
   ],
   "source": [
    "#amgstrom\n",
    "n=int(input(\"enter the number\"))\n",
    "og=n\n",
    "amgstrom=0\n",
    "while(n>0):\n",
    "    rem=int(n%10)\n",
    "    amgstrom=int(amgstrom+rem*rem*rem)\n",
    "    n=int(n/10)\n",
    "if amgstrom==og:\n",
    "    print(\"number is amstrong\")\n",
    "else:\n",
    "    print(\"not\")"
   ]
  },
  {
   "cell_type": "code",
   "execution_count": 18,
   "metadata": {},
   "outputs": [
    {
     "name": "stdout",
     "output_type": "stream",
     "text": [
      "How many terms? 5\n",
      "Fibonacci sequence:\n",
      "0\n",
      "1\n",
      "1\n",
      "2\n",
      "3\n"
     ]
    }
   ],
   "source": [
    "#fibonaaci\n",
    "# Program to display the Fibonacci sequence up to n-th term\n",
    "\n",
    "nterms = int(input(\"How many terms? \"))\n",
    "\n",
    "# first two terms\n",
    "n1, n2 = 0, 1\n",
    "count = 0\n",
    "\n",
    "# check if the number of terms is valid\n",
    "if nterms <= 0:\n",
    "    print(\"Please enter a positive integer\")\n",
    "elif nterms == 1:\n",
    "    print(\"Fibonacci:\")\n",
    "    print(n1)\n",
    "else:\n",
    "    print(\"Fibonacci sequence:\")\n",
    "    while count < nterms:\n",
    "        print(n1)\n",
    "        nth = n1 + n2\n",
    "        n1 = n2\n",
    "        n2 = nth\n",
    "        count += 1"
   ]
  },
  {
   "cell_type": "code",
   "execution_count": 31,
   "metadata": {},
   "outputs": [
    {
     "name": "stdout",
     "output_type": "stream",
     "text": [
      "enter the number0\n",
      "not a prime\n"
     ]
    }
   ],
   "source": [
    "n=int(input(\"enter the number\"))\n",
    "c=2\n",
    "flag=0\n",
    "if n ==1:\n",
    "    print(\"not a prime\")\n",
    "\n",
    "elif n==0:\n",
    "    print(\"not a prime\")\n",
    "else:\n",
    "    while(c<n):\n",
    "        if(n%c==0):\n",
    "            flag=1\n",
    "        c=c+1\n",
    "    if(flag==1):\n",
    "        print(\"not a prime\")\n",
    "    else:\n",
    "        \n",
    "        print(\"a prime number\")\n"
   ]
  },
  {
   "cell_type": "code",
   "execution_count": 32,
   "metadata": {},
   "outputs": [
    {
     "name": "stdout",
     "output_type": "stream",
     "text": [
      "enter the number153\n",
      "not\n"
     ]
    }
   ],
   "source": [
    "n=int(input(\"enter the number\"))\n",
    "og=n\n",
    "reverse=0\n",
    "while(n>0):\n",
    "    rem=int(n%10)\n",
    "    reverse=int((reverse*10)+rem)\n",
    "    n=int(n/10)\n",
    "if reverse ==og:\n",
    "    print(\"number is pallindrome\")\n",
    "else:\n",
    "    print(\"not a pallindrome\")"
   ]
  },
  {
   "cell_type": "code",
   "execution_count": 33,
   "metadata": {},
   "outputs": [
    {
     "name": "stdout",
     "output_type": "stream",
     "text": [
      "enter the number153\n",
      "sum of digits are 9\n"
     ]
    }
   ],
   "source": [
    "#sum of digits\n",
    "\n",
    "#amgstrom\n",
    "n=int(input(\"enter the number\"))\n",
    "og=n\n",
    "sumdig=0\n",
    "while(n>0):\n",
    "    rem=int(n%10)\n",
    "    sumdig=int(sumdig+rem)\n",
    "    n=int(n/10)\n",
    "print(\"sum of digits are {}\".format(sumdig))"
   ]
  },
  {
   "cell_type": "code",
   "execution_count": 37,
   "metadata": {},
   "outputs": [
    {
     "name": "stdout",
     "output_type": "stream",
     "text": [
      "5\n",
      "7\n",
      "10\n",
      "14\n",
      "15\n",
      "20\n",
      "21\n",
      "25\n",
      "28\n",
      "30\n",
      "35\n",
      "40\n",
      "42\n",
      "45\n",
      "49\n",
      "50\n",
      "55\n",
      "56\n",
      "60\n",
      "63\n",
      "65\n",
      "70\n",
      "75\n",
      "77\n",
      "80\n",
      "84\n",
      "85\n",
      "90\n",
      "91\n",
      "95\n",
      "98\n",
      "100\n"
     ]
    }
   ],
   "source": [
    "for i in range(1,101):\n",
    "    if i%5==0 or i%7==0:\n",
    "        print(i)"
   ]
  },
  {
   "cell_type": "code",
   "execution_count": 52,
   "metadata": {},
   "outputs": [
    {
     "name": "stdout",
     "output_type": "stream",
     "text": [
      "Enter the stringabcd\n",
      "ABCD\n"
     ]
    }
   ],
   "source": [
    "a=list(input(\"Enter the string\"))\n",
    "uppercase=[]\n",
    "for i in range(len(a)):\n",
    "    converted=ord(a[i])\n",
    "    converted=converted-32\n",
    "    uppercase=uppercase+list(chr(converted))\n",
    "print(\"\".join(uppercase))"
   ]
  },
  {
   "cell_type": "code",
   "execution_count": 58,
   "metadata": {},
   "outputs": [
    {
     "name": "stdout",
     "output_type": "stream",
     "text": [
      "2\n",
      "3\n",
      "5\n",
      "7\n",
      "11\n",
      "13\n",
      "17\n",
      "19\n",
      "23\n",
      "29\n",
      "31\n",
      "37\n",
      "41\n",
      "43\n",
      "47\n",
      "53\n",
      "59\n",
      "61\n",
      "67\n",
      "71\n",
      "73\n",
      "79\n",
      "83\n",
      "89\n",
      "97\n"
     ]
    }
   ],
   "source": [
    "for n in range(1,101):\n",
    "    c=2\n",
    "    flag=0\n",
    "    if n ==1:\n",
    "        continue\n",
    "    elif n==0:\n",
    "        continue\n",
    "    else:\n",
    "        while(c<n):\n",
    "            if(n%c==0):\n",
    "                flag=1\n",
    "            c=c+1\n",
    "        if(flag==1):\n",
    "            continue\n",
    "        else:\n",
    "            print(n)\n"
   ]
  },
  {
   "cell_type": "code",
   "execution_count": 60,
   "metadata": {},
   "outputs": [
    {
     "name": "stdout",
     "output_type": "stream",
     "text": [
      "enter the number for table5\n",
      "5 * 1 = 5\n",
      "5 * 2 = 10\n",
      "5 * 3 = 15\n",
      "5 * 4 = 20\n",
      "5 * 5 = 25\n",
      "5 * 6 = 30\n",
      "5 * 7 = 35\n",
      "5 * 8 = 40\n",
      "5 * 9 = 45\n",
      "5 * 10 = 50\n"
     ]
    }
   ],
   "source": [
    "table=int(input(\"enter the number for table\"))\n",
    "for i in range(1,11):\n",
    "    print(\"{} * {} = {}\".format(table,i,table*i))"
   ]
  },
  {
   "cell_type": "code",
   "execution_count": 78,
   "metadata": {},
   "outputs": [
    {
     "data": {
      "text/plain": [
       "1"
      ]
     },
     "execution_count": 78,
     "metadata": {},
     "output_type": "execute_result"
    }
   ],
   "source": [
    "#Find whether a given year is a leap year or not.\n",
    "def leap_year(year):\n",
    "    if (year % 4) == 0:\n",
    "        if (year % 100) == 0:\n",
    "            if (year % 400) == 0:\n",
    "                return 1\n",
    "            else:\n",
    "                return 0\n",
    "        else:\n",
    "            return 1\n",
    "    else:\n",
    "        return 0\n",
    "leap_year(2024)"
   ]
  },
  {
   "cell_type": "markdown",
   "metadata": {},
   "source": [
    "<h3>Practical No 5</h3>\n",
    "Q1) Write a program to count and display the number of capital letters in a given string.<br>\n",
    "Q2) Count total number of vowels in a given string.<br>\n",
    "Q3) Input a sentence and print words in separate lines.<br>\n",
    "Q4) Program to count number of unique words in a given sentence.<br>\n",
    "Q5) A program to scan n values and print square of each number.<br>\n",
    "Q6) Take two sets and apply various set operations on them :<br>\n",
    "S1 = {Red ,yellow, orange , blue }<br>\n",
    "S2 = {violet, blue , purple}<br>\n",
    "  <br>"
   ]
  },
  {
   "cell_type": "code",
   "execution_count": 10,
   "metadata": {},
   "outputs": [
    {
     "data": {
      "text/plain": [
       "3"
      ]
     },
     "execution_count": 10,
     "metadata": {},
     "output_type": "execute_result"
    }
   ],
   "source": [
    "x=\"My Name is Adarsh\"\n",
    "count=0\n",
    "for i in x:\n",
    "    if(ord(i)>=65 and ord(i)<=90):\n",
    "        count+=1\n",
    "count"
   ]
  },
  {
   "cell_type": "code",
   "execution_count": 15,
   "metadata": {},
   "outputs": [
    {
     "data": {
      "text/plain": [
       "3"
      ]
     },
     "execution_count": 15,
     "metadata": {},
     "output_type": "execute_result"
    }
   ],
   "source": [
    "x=\"My ur a q t A\"\n",
    "count=0\n",
    "for i in x:\n",
    "    if(i in ['a','e','i','o','u'] or i in ['A','E','I','O','U']):\n",
    "        count+=1\n",
    "count"
   ]
  },
  {
   "cell_type": "code",
   "execution_count": 18,
   "metadata": {},
   "outputs": [
    {
     "name": "stdout",
     "output_type": "stream",
     "text": [
      "My\n",
      "Name\n",
      "is\n",
      "Adarsh\n"
     ]
    }
   ],
   "source": [
    "x=\"My Name is Adarsh\"\n",
    "x=x.split(' ')\n",
    "for i in x:\n",
    "    print(i)"
   ]
  },
  {
   "cell_type": "code",
   "execution_count": 61,
   "metadata": {},
   "outputs": [
    {
     "name": "stdout",
     "output_type": "stream",
     "text": [
      "Name\n",
      "is\n",
      "Adarsh\n"
     ]
    }
   ],
   "source": [
    "x=\"My Name is Adarsh My My\"\n",
    "x=x.split(' ')\n",
    "dic={}\n",
    "#i\n",
    "for word in x:\n",
    "    if word in dic:\n",
    "        dic[word]+=1\n",
    "    else:\n",
    "        dic.update({word: 1})\n",
    "for x,y in dic.items():\n",
    "    if y==1:\n",
    "        print(x)"
   ]
  },
  {
   "cell_type": "code",
   "execution_count": 74,
   "metadata": {},
   "outputs": [
    {
     "name": "stdout",
     "output_type": "stream",
     "text": [
      "{'violet', 'yellow', 'Red', 'blue', 'purple', 'orange'}\n",
      "{'blue'}\n",
      "False\n",
      "False\n"
     ]
    }
   ],
   "source": [
    "S1 = {\"Red\" ,\"yellow\", \"orange\" , \"blue\" }\n",
    "S2 = {\"violet\", \"blue\" , \"purple\"} \n",
    "\n",
    "print(S1.union(S2))\n",
    "print(S1.intersection(S2))\n",
    "print(S1.issubset(S2))\n",
    "print(S1.isdisjoint(S2))"
   ]
  },
  {
   "cell_type": "markdown",
   "metadata": {},
   "source": [
    "<h3>Practical No 6</h3>\n",
    "Q1) Scan n values in range 0-3 and print the number of times each value has occurred.<br>\n",
    "Q2)  Take 3 numbers as input and store their tables in a list whose elements are table of the number user has entered.<br>\n",
    "Q3) Store details of movies in a dictionary. Each movie must store details like name,  year, <br>director name, production cost, collection made (earning) & perform the following :-<br>\n",
    "A) print all movie details<br>\n",
    "B) Display name of movies released before 2015<br>\n",
    "C) print movies that made a profit.<br>\n",
    "D) print movies that made a loss.<br>\n",
    "E) print movies directed by a particular director.<br>\n",
    "Q4) Take a paragraph as input from user and randomly jumble all the letters in each word except <br>for first and last letter. Keep the special symbols at its actual position.<br>\n",
    "\n",
    "\n"
   ]
  },
  {
   "cell_type": "code",
   "execution_count": 1,
   "metadata": {},
   "outputs": [
    {
     "name": "stdout",
     "output_type": "stream",
     "text": [
      "waht is the porelbm with you kid and waht do expect form me\n"
     ]
    }
   ],
   "source": [
    "#Take a paragraph as input from user and randomly jumble all the letters in each word except for first and last letter. Keep the special symbols at its actual position.\n",
    "import random \n",
    "def jumbledwords(test_list):\n",
    "    for i in range(len(test_list)-1, 0, -1): \n",
    "        j = random.randint(0, i)  \n",
    "        test_list[i], test_list[j] = test_list[j], test_list[i] \n",
    "    return(test_list)\n",
    "\n",
    "\n",
    "import random\n",
    "def jumble(words):\n",
    "\n",
    "\n",
    "    if(len(words)>3):\n",
    "        word = list(words[1:-1])\n",
    "        finalword=jumbledwords(word)\n",
    "        finalword=words[0] + \"\".join(finalword) + words[len(words)-1]\n",
    "    else:\n",
    "        finalword=\"\".join(words)\n",
    "        \n",
    "    return finalword\n",
    "\n",
    "\n",
    "if __name__ == '__main__':\n",
    "    output=[]\n",
    "    x=\"what is the problem with you kid and what do expect from me\"\n",
    "    x=x.split(' ')\n",
    "    for i in x:\n",
    "        jumbled=jumble(list(i))\n",
    "        output.append(jumbled)\n",
    "    print(\" \".join(output))"
   ]
  },
  {
   "cell_type": "code",
   "execution_count": 29,
   "metadata": {},
   "outputs": [],
   "source": [
    "#question3\n",
    "\n",
    "class player:\n",
    "    \n",
    "    def __init__(self,playername,runs,match,wickets):\n",
    "        self.playername=playername\n",
    "        self.runs=runs\n",
    "        self.wickets=wickets\n",
    "        self.match=match\n",
    "    def display_details(self):\n",
    "            print(\"player name : {} \\n Player run : {} \\n player match : {} \\n player wicket : {}\".format(self.playername,self.runs,self.match,self.wickets))\n",
    "        \n",
    "    "
   ]
  },
  {
   "cell_type": "code",
   "execution_count": 30,
   "metadata": {},
   "outputs": [
    {
     "name": "stdout",
     "output_type": "stream",
     "text": [
      "enter the player nameadarsh\n",
      "enter the runs2000\n",
      "enter the number of matches201\n",
      "enter the number of wickets102\n",
      "enter the player nameritesh\n",
      "enter the runs2980\n",
      "enter the number of matches198\n",
      "enter the number of wickets87\n"
     ]
    }
   ],
   "source": [
    "playerobj=[]\n",
    "\n",
    "for i in range(2):\n",
    "    x=input(\"enter the player name\")\n",
    "    y=int(input(\"enter the runs\"))\n",
    "    z=int(input(\"enter the number of matches\"))\n",
    "    l=int(input(\"enter the number of wickets\"))\n",
    "    playerobj.append(player(x,y,z,l))\n"
   ]
  },
  {
   "cell_type": "code",
   "execution_count": 31,
   "metadata": {},
   "outputs": [
    {
     "name": "stdout",
     "output_type": "stream",
     "text": [
      "player name : adarsh \n",
      " Player run : 2000 \n",
      " player match : 201 \n",
      " player wicket : 102\n",
      "player name : ritesh \n",
      " Player run : 2980 \n",
      " player match : 198 \n",
      " player wicket : 87\n"
     ]
    }
   ],
   "source": [
    "for obj in playerobj:\n",
    "    obj.display_details()\n",
    "    "
   ]
  },
  {
   "cell_type": "code",
   "execution_count": 32,
   "metadata": {},
   "outputs": [
    {
     "name": "stdout",
     "output_type": "stream",
     "text": [
      "player name : adarsh \n",
      " Player run : 2000 \n",
      " player match : 201 \n",
      " player wicket : 102\n",
      "average of player adarsh is 9.950248756218905\n",
      "average of player ritesh is 15.05050505050505\n"
     ]
    }
   ],
   "source": [
    "count=0\n",
    "for obj in playerobj:\n",
    "    if obj.match>200:\n",
    "        count+=1\n",
    "    if obj.wickets>100:\n",
    "        obj.display_details()\n",
    "    print(\"average of player {} is {}\".format(obj.playername,obj.runs/obj.match))\n",
    "print(\"the count of player having more than 200 matches\".format(count))"
   ]
  },
  {
   "cell_type": "code",
   "execution_count": 19,
   "metadata": {},
   "outputs": [],
   "source": [
    "class Person:\n",
    "    def __init__(self, name, age):\n",
    "        self.name = name\n",
    "        self.age = age\n",
    "    def __init__(self,name):\n",
    "        self.name=name\n"
   ]
  },
  {
   "cell_type": "code",
   "execution_count": 2,
   "metadata": {},
   "outputs": [
    {
     "name": "stdout",
     "output_type": "stream",
     "text": [
      "enter the player nameadarsh\n",
      "enter the runs14\n",
      "enter the number of matches1023\n",
      "enter the number of wickets50\n",
      "enter the player nameamrit\n",
      "enter the runs15\n",
      "enter the number of matches1032\n",
      "enter the number of wickets4\n",
      "average of player adarsh is 0.013685239491691105\n",
      "average of player amrit is 0.014534883720930232\n",
      "the count of player having more than 200 matches\n"
     ]
    }
   ],
   "source": [
    "#question3\n",
    "playerobj=[]\n",
    "class player:\n",
    "    \n",
    "    def __init__(self,playername,runs,match,wickets):\n",
    "        self.playername=playername\n",
    "        self.runs=runs\n",
    "        self.wickets=wickets\n",
    "        self.match=match\n",
    "    def display_details(self):\n",
    "            print(\"player name : {} \\n Player run : {} \\n player match : {} \\n player wicket : {}\".format(self.playername,self.runs,self.match,self.wickets))\n",
    "        \n",
    "\n",
    "\n",
    "for i in range(2):\n",
    "    x=input(\"enter the player name\")\n",
    "    y=int(input(\"enter the runs\"))\n",
    "    z=int(input(\"enter the number of matches\"))\n",
    "    l=int(input(\"enter the number of wickets\"))\n",
    "    playerobj.append(player(x,y,z,l))\n",
    "    \n",
    "count=0\n",
    "for obj in playerobj:\n",
    "    if obj.match>200:\n",
    "        count+=1\n",
    "    if obj.wickets>100:\n",
    "        obj.display_details()\n",
    "    print(\"average of player {} is {}\".format(obj.playername,obj.runs/obj.match))\n",
    "print(\"the count of player having more than 200 matches\".format(count))\n"
   ]
  },
  {
   "cell_type": "code",
   "execution_count": 21,
   "metadata": {},
   "outputs": [],
   "source": [
    "#ques 1 and 2:-\n",
    "students=[]\n",
    "class student:\n",
    "    def __init__(self,name,age,roll,per):\n",
    "        self.name=name\n",
    "        self.age=age\n",
    "        self.roll=roll\n",
    "        self.per=per\n",
    "        \n",
    "    def showdetail(self):\n",
    "        print(self.name,self.age,self.roll,self.phone)\n",
    "    def update_marks(self,marks):\n",
    "        self.marks=marks\n",
    "    def update_per(self,per):\n",
    "        self.per=per\n",
    "    def add_student(self):\n",
    "            x=input(\"enter the student name\")\n",
    "            y=int(input(\"enter the age\"))\n",
    "            z=int(input(\"enter the number of roll\"))\n",
    "            l=int(input(\"enter the number of per\"))\n",
    "            students.append(player(x,y,z,l))\n",
    "    def del_student(self):\n",
    "        delroll=int(input(\"enter the roll of student to be deleted\"))\n",
    "        for i in range(len(students)):\n",
    "            if (obj.roll == delroll):\n",
    "                students.pop(i)        \n",
    "        "
   ]
  },
  {
   "cell_type": "code",
   "execution_count": 14,
   "metadata": {},
   "outputs": [
    {
     "name": "stdout",
     "output_type": "stream",
     "text": [
      "enter the student nameabc\n",
      "enter the age10\n",
      "enter the number of roll12\n",
      "enter the number of per40\n"
     ]
    }
   ],
   "source": [
    "for i in range(1):\n",
    "    x=input(\"enter the student name\")\n",
    "    y=int(input(\"enter the age\"))\n",
    "    z=int(input(\"enter the number of roll\"))\n",
    "    l=int(input(\"enter the number of per\"))\n",
    "    students.append(player(x,y,z,l))"
   ]
  },
  {
   "cell_type": "code",
   "execution_count": 18,
   "metadata": {},
   "outputs": [],
   "source": [
    "student.add_student = classmethod(student.add_student)"
   ]
  },
  {
   "cell_type": "code",
   "execution_count": 19,
   "metadata": {},
   "outputs": [
    {
     "name": "stdout",
     "output_type": "stream",
     "text": [
      "enter the student nameabc\n",
      "enter the age18\n",
      "enter the number of roll14\n",
      "enter the number of per14\n"
     ]
    }
   ],
   "source": [
    "student.add_student()"
   ]
  },
  {
   "cell_type": "code",
   "execution_count": 22,
   "metadata": {},
   "outputs": [],
   "source": [
    "student.del_student = classmethod(student.del_student)"
   ]
  },
  {
   "cell_type": "code",
   "execution_count": 23,
   "metadata": {},
   "outputs": [
    {
     "name": "stdout",
     "output_type": "stream",
     "text": [
      "enter the roll of student to be deleted12\n"
     ]
    }
   ],
   "source": [
    "student.del_student()"
   ]
  },
  {
   "cell_type": "code",
   "execution_count": 24,
   "metadata": {},
   "outputs": [],
   "source": [
    "a=\"abcd\""
   ]
  },
  {
   "cell_type": "code",
   "execution_count": 41,
   "metadata": {},
   "outputs": [
    {
     "data": {
      "text/plain": [
       "'987654321'"
      ]
     },
     "execution_count": 41,
     "metadata": {},
     "output_type": "execute_result"
    }
   ],
   "source": [
    "s1=\"123456789\"\n",
    "\n",
    "s1[::-1]\n"
   ]
  },
  {
   "cell_type": "code",
   "execution_count": 56,
   "metadata": {},
   "outputs": [
    {
     "data": {
      "text/plain": [
       "'678'"
      ]
     },
     "execution_count": 56,
     "metadata": {},
     "output_type": "execute_result"
    }
   ],
   "source": [
    "s1[-4:-1]"
   ]
  },
  {
   "cell_type": "code",
   "execution_count": null,
   "metadata": {},
   "outputs": [],
   "source": []
  },
  {
   "cell_type": "code",
   "execution_count": null,
   "metadata": {},
   "outputs": [],
   "source": []
  }
 ],
 "metadata": {
  "kernelspec": {
   "display_name": "Python 3",
   "language": "python",
   "name": "python3"
  },
  "language_info": {
   "codemirror_mode": {
    "name": "ipython",
    "version": 3
   },
   "file_extension": ".py",
   "mimetype": "text/x-python",
   "name": "python",
   "nbconvert_exporter": "python",
   "pygments_lexer": "ipython3",
   "version": "3.7.6"
  }
 },
 "nbformat": 4,
 "nbformat_minor": 5
}
